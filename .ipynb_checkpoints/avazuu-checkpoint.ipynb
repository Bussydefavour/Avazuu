{
 "cells": [
  {
   "cell_type": "code",
   "execution_count": 9,
   "id": "ee04871d",
   "metadata": {},
   "outputs": [],
   "source": [
    "# import the library\n",
    "import pandas as pd\n",
    "import numpy as np\n",
    "import matplotlib.pyplot as plt\n",
    "import seaborn as sns\n",
    "from sklearn.feature_extraction import FeatureHasher\n",
    "from sklearn.metrics import log_loss\n",
    "from sklearn.preprocessing import StandardScaler\n",
    "from sklearn import preprocessing\n",
    "from sklearn.linear_model import LogisticRegression\n",
    "from sklearn.metrics import mean_squared_error, r2_score\n",
    "from sklearn.model_selection import train_test_split\n",
    "from sklearn.utils import resample\n",
    "from sklearn.tree import DecisionTreeClassifier\n",
    "from sklearn.svm import SVC\n",
    "from sklearn.ensemble import RandomForestClassifier, VotingClassifier\n",
    "from sklearn.metrics import accuracy_score, confusion_matrix, classification_report, f1_score\n",
    "import warnings\n",
    "warnings.filterwarnings('ignore')"
   ]
  },
  {
   "cell_type": "code",
   "execution_count": 10,
   "id": "56b529bc",
   "metadata": {},
   "outputs": [],
   "source": [
    "# load the whole dataset\n",
    "dff = pd.read_csv('Downloads/avazu-ctr-prediction/train/train.csv', nrows=500000)\n"
   ]
  },
  {
   "cell_type": "code",
   "execution_count": 23,
   "id": "81562855",
   "metadata": {},
   "outputs": [
    {
     "data": {
      "text/plain": [
       "click\n",
       "1    82037\n",
       "0    82037\n",
       "Name: count, dtype: int64"
      ]
     },
     "execution_count": 23,
     "metadata": {},
     "output_type": "execute_result"
    }
   ],
   "source": [
    "# downsample the non click observations to the same number clicked ad available\n",
    "\n",
    "clicked_df = dff[dff.click == 1]\n",
    "nonclicked_df = dff[dff.click == 0]\n",
    "\n",
    "# define the number of samples to be equal to the number of clicked observations\n",
    "n_samples = dff['click'].value_counts()[1]\n",
    "\n",
    " # sampling clicked observations\n",
    "clicked_df_sampled = resample(clicked_df,\n",
    "                              replace=False,    # sample with replacement\n",
    "                               n_samples=n_samples, # to match majority class\n",
    "                               random_state=42) # reproducible results\n",
    "\n",
    " # sampling non-clicked observations\n",
    "nonclicked_df_sampled = resample(nonclicked_df,\n",
    "                                replace=False,    # sample without replacement\n",
    "                                 n_samples=n_samples, # to match minority class\n",
    "                                 random_state=42) # reproducible results\n",
    "\n",
    "\n",
    " # Combine the dataset\n",
    "df = pd.concat([clicked_df_sampled, nonclicked_df_sampled])\n",
    "\n",
    "df['click'].value_counts()\n"
   ]
  },
  {
   "cell_type": "code",
   "execution_count": null,
   "id": "1343a1ac",
   "metadata": {},
   "outputs": [],
   "source": []
  }
 ],
 "metadata": {
  "kernelspec": {
   "display_name": "Python 3 (ipykernel)",
   "language": "python",
   "name": "python3"
  },
  "language_info": {
   "codemirror_mode": {
    "name": "ipython",
    "version": 3
   },
   "file_extension": ".py",
   "mimetype": "text/x-python",
   "name": "python",
   "nbconvert_exporter": "python",
   "pygments_lexer": "ipython3",
   "version": "3.11.5"
  }
 },
 "nbformat": 4,
 "nbformat_minor": 5
}
